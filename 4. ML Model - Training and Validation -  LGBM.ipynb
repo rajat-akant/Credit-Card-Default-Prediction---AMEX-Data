{
 "cells": [
  {
   "cell_type": "code",
   "execution_count": 1,
   "id": "2bfe2311",
   "metadata": {},
   "outputs": [],
   "source": [
    "import pandas as pd\n",
    "import numpy as np\n",
    "import matplotlib.pyplot as plt\n",
    "from time import process_time"
   ]
  },
  {
   "cell_type": "code",
   "execution_count": null,
   "id": "70cd92fe",
   "metadata": {},
   "outputs": [],
   "source": [
    "#pip install lightgbm"
   ]
  },
  {
   "cell_type": "code",
   "execution_count": 2,
   "id": "bd0777cb",
   "metadata": {},
   "outputs": [
    {
     "name": "stdout",
     "output_type": "stream",
     "text": [
      "Elapsed time for Loading Data in seconds: 2.9375\n"
     ]
    }
   ],
   "source": [
    "# Training Data Loading - Sequential Sample of 5 Lakh rows \n",
    "\n",
    "t1_start = process_time()\n",
    "train_df = pd.read_feather(r\"C:\\PC_Data\\DBDA\\Project\\seq_train_data.ftr\")\n",
    "t1_stop = process_time()\n",
    "print(\"Elapsed time for Loading Data in seconds:\",t1_stop-t1_start)"
   ]
  },
  {
   "cell_type": "code",
   "execution_count": 3,
   "id": "4845d212",
   "metadata": {
    "scrolled": true
   },
   "outputs": [
    {
     "data": {
      "text/html": [
       "<div>\n",
       "<style scoped>\n",
       "    .dataframe tbody tr th:only-of-type {\n",
       "        vertical-align: middle;\n",
       "    }\n",
       "\n",
       "    .dataframe tbody tr th {\n",
       "        vertical-align: top;\n",
       "    }\n",
       "\n",
       "    .dataframe thead th {\n",
       "        text-align: right;\n",
       "    }\n",
       "</style>\n",
       "<table border=\"1\" class=\"dataframe\">\n",
       "  <thead>\n",
       "    <tr style=\"text-align: right;\">\n",
       "      <th></th>\n",
       "      <th>customer_ID</th>\n",
       "      <th>S_2</th>\n",
       "      <th>P_2</th>\n",
       "      <th>D_39</th>\n",
       "      <th>B_1</th>\n",
       "      <th>B_2</th>\n",
       "      <th>R_1</th>\n",
       "      <th>S_3</th>\n",
       "      <th>D_41</th>\n",
       "      <th>B_3</th>\n",
       "      <th>...</th>\n",
       "      <th>D_136</th>\n",
       "      <th>D_137</th>\n",
       "      <th>D_138</th>\n",
       "      <th>D_139</th>\n",
       "      <th>D_140</th>\n",
       "      <th>D_141</th>\n",
       "      <th>D_142</th>\n",
       "      <th>D_143</th>\n",
       "      <th>D_144</th>\n",
       "      <th>D_145</th>\n",
       "    </tr>\n",
       "  </thead>\n",
       "  <tbody>\n",
       "    <tr>\n",
       "      <th>0</th>\n",
       "      <td>0000099d6bd597052cdcda90ffabf56573fe9d7c79be5f...</td>\n",
       "      <td>2017-03-09</td>\n",
       "      <td>0.938469</td>\n",
       "      <td>0.001733</td>\n",
       "      <td>0.008724</td>\n",
       "      <td>1.006838</td>\n",
       "      <td>0.009228</td>\n",
       "      <td>0.124035</td>\n",
       "      <td>0.008771</td>\n",
       "      <td>0.004709</td>\n",
       "      <td>...</td>\n",
       "      <td>NaN</td>\n",
       "      <td>NaN</td>\n",
       "      <td>NaN</td>\n",
       "      <td>0.002427</td>\n",
       "      <td>0.003706</td>\n",
       "      <td>0.003818</td>\n",
       "      <td>NaN</td>\n",
       "      <td>0.000569</td>\n",
       "      <td>0.000610</td>\n",
       "      <td>0.002674</td>\n",
       "    </tr>\n",
       "    <tr>\n",
       "      <th>1</th>\n",
       "      <td>0000099d6bd597052cdcda90ffabf56573fe9d7c79be5f...</td>\n",
       "      <td>2017-04-07</td>\n",
       "      <td>0.936665</td>\n",
       "      <td>0.005775</td>\n",
       "      <td>0.004923</td>\n",
       "      <td>1.000653</td>\n",
       "      <td>0.006151</td>\n",
       "      <td>0.126750</td>\n",
       "      <td>0.000798</td>\n",
       "      <td>0.002714</td>\n",
       "      <td>...</td>\n",
       "      <td>NaN</td>\n",
       "      <td>NaN</td>\n",
       "      <td>NaN</td>\n",
       "      <td>0.003954</td>\n",
       "      <td>0.003167</td>\n",
       "      <td>0.005032</td>\n",
       "      <td>NaN</td>\n",
       "      <td>0.009576</td>\n",
       "      <td>0.005492</td>\n",
       "      <td>0.009217</td>\n",
       "    </tr>\n",
       "    <tr>\n",
       "      <th>2</th>\n",
       "      <td>0000099d6bd597052cdcda90ffabf56573fe9d7c79be5f...</td>\n",
       "      <td>2017-05-28</td>\n",
       "      <td>0.954180</td>\n",
       "      <td>0.091505</td>\n",
       "      <td>0.021655</td>\n",
       "      <td>1.009672</td>\n",
       "      <td>0.006815</td>\n",
       "      <td>0.123977</td>\n",
       "      <td>0.007598</td>\n",
       "      <td>0.009423</td>\n",
       "      <td>...</td>\n",
       "      <td>NaN</td>\n",
       "      <td>NaN</td>\n",
       "      <td>NaN</td>\n",
       "      <td>0.003269</td>\n",
       "      <td>0.007329</td>\n",
       "      <td>0.000427</td>\n",
       "      <td>NaN</td>\n",
       "      <td>0.003429</td>\n",
       "      <td>0.006986</td>\n",
       "      <td>0.002603</td>\n",
       "    </tr>\n",
       "    <tr>\n",
       "      <th>3</th>\n",
       "      <td>0000099d6bd597052cdcda90ffabf56573fe9d7c79be5f...</td>\n",
       "      <td>2017-06-13</td>\n",
       "      <td>0.960384</td>\n",
       "      <td>0.002455</td>\n",
       "      <td>0.013683</td>\n",
       "      <td>1.002700</td>\n",
       "      <td>0.001373</td>\n",
       "      <td>0.117169</td>\n",
       "      <td>0.000685</td>\n",
       "      <td>0.005531</td>\n",
       "      <td>...</td>\n",
       "      <td>NaN</td>\n",
       "      <td>NaN</td>\n",
       "      <td>NaN</td>\n",
       "      <td>0.006117</td>\n",
       "      <td>0.004516</td>\n",
       "      <td>0.003200</td>\n",
       "      <td>NaN</td>\n",
       "      <td>0.008419</td>\n",
       "      <td>0.006527</td>\n",
       "      <td>0.009600</td>\n",
       "    </tr>\n",
       "    <tr>\n",
       "      <th>4</th>\n",
       "      <td>0000099d6bd597052cdcda90ffabf56573fe9d7c79be5f...</td>\n",
       "      <td>2017-07-16</td>\n",
       "      <td>0.947248</td>\n",
       "      <td>0.002483</td>\n",
       "      <td>0.015193</td>\n",
       "      <td>1.000727</td>\n",
       "      <td>0.007605</td>\n",
       "      <td>0.117325</td>\n",
       "      <td>0.004653</td>\n",
       "      <td>0.009312</td>\n",
       "      <td>...</td>\n",
       "      <td>NaN</td>\n",
       "      <td>NaN</td>\n",
       "      <td>NaN</td>\n",
       "      <td>0.003671</td>\n",
       "      <td>0.004946</td>\n",
       "      <td>0.008889</td>\n",
       "      <td>NaN</td>\n",
       "      <td>0.001670</td>\n",
       "      <td>0.008126</td>\n",
       "      <td>0.009827</td>\n",
       "    </tr>\n",
       "  </tbody>\n",
       "</table>\n",
       "<p>5 rows × 190 columns</p>\n",
       "</div>"
      ],
      "text/plain": [
       "                                         customer_ID         S_2       P_2  \\\n",
       "0  0000099d6bd597052cdcda90ffabf56573fe9d7c79be5f...  2017-03-09  0.938469   \n",
       "1  0000099d6bd597052cdcda90ffabf56573fe9d7c79be5f...  2017-04-07  0.936665   \n",
       "2  0000099d6bd597052cdcda90ffabf56573fe9d7c79be5f...  2017-05-28  0.954180   \n",
       "3  0000099d6bd597052cdcda90ffabf56573fe9d7c79be5f...  2017-06-13  0.960384   \n",
       "4  0000099d6bd597052cdcda90ffabf56573fe9d7c79be5f...  2017-07-16  0.947248   \n",
       "\n",
       "       D_39       B_1       B_2       R_1       S_3      D_41       B_3  ...  \\\n",
       "0  0.001733  0.008724  1.006838  0.009228  0.124035  0.008771  0.004709  ...   \n",
       "1  0.005775  0.004923  1.000653  0.006151  0.126750  0.000798  0.002714  ...   \n",
       "2  0.091505  0.021655  1.009672  0.006815  0.123977  0.007598  0.009423  ...   \n",
       "3  0.002455  0.013683  1.002700  0.001373  0.117169  0.000685  0.005531  ...   \n",
       "4  0.002483  0.015193  1.000727  0.007605  0.117325  0.004653  0.009312  ...   \n",
       "\n",
       "   D_136  D_137  D_138     D_139     D_140     D_141  D_142     D_143  \\\n",
       "0    NaN    NaN    NaN  0.002427  0.003706  0.003818    NaN  0.000569   \n",
       "1    NaN    NaN    NaN  0.003954  0.003167  0.005032    NaN  0.009576   \n",
       "2    NaN    NaN    NaN  0.003269  0.007329  0.000427    NaN  0.003429   \n",
       "3    NaN    NaN    NaN  0.006117  0.004516  0.003200    NaN  0.008419   \n",
       "4    NaN    NaN    NaN  0.003671  0.004946  0.008889    NaN  0.001670   \n",
       "\n",
       "      D_144     D_145  \n",
       "0  0.000610  0.002674  \n",
       "1  0.005492  0.009217  \n",
       "2  0.006986  0.002603  \n",
       "3  0.006527  0.009600  \n",
       "4  0.008126  0.009827  \n",
       "\n",
       "[5 rows x 190 columns]"
      ]
     },
     "execution_count": 3,
     "metadata": {},
     "output_type": "execute_result"
    }
   ],
   "source": [
    "train_df.head()"
   ]
  },
  {
   "cell_type": "markdown",
   "id": "cf699037",
   "metadata": {},
   "source": [
    "## Data Cleaning"
   ]
  },
  {
   "cell_type": "code",
   "execution_count": 4,
   "id": "9978bae8",
   "metadata": {},
   "outputs": [],
   "source": [
    "# Converting the Numerical Columns to Categorical as per the original data set\n",
    "\n",
    "cat_cols = ['D_63','D_64','D_66','D_68','B_30','B_38','D_114','D_116','D_117','D_120','D_126']\n",
    "\n",
    "for col in cat_cols:\n",
    "    train_df[col] = train_df[col].astype('category',copy=False)"
   ]
  },
  {
   "cell_type": "code",
   "execution_count": 5,
   "id": "7b5b776e",
   "metadata": {},
   "outputs": [
    {
     "data": {
      "text/plain": [
       "(500000, 190)"
      ]
     },
     "execution_count": 5,
     "metadata": {},
     "output_type": "execute_result"
    }
   ],
   "source": [
    "train_df.shape"
   ]
  },
  {
   "cell_type": "code",
   "execution_count": 6,
   "id": "93517a80",
   "metadata": {},
   "outputs": [],
   "source": [
    "# Dropping the Columns with Null Values more than 70%\n",
    "\n",
    "removed_cols=[]\n",
    "for col in train_df.columns:\n",
    "    if (train_df[col].isna().sum()/train_df.shape[0]*100) > 70 :\n",
    "        removed_cols.append(col)\n",
    "        train_df.drop(col, axis=1, inplace=True)"
   ]
  },
  {
   "cell_type": "code",
   "execution_count": 7,
   "id": "784d7066",
   "metadata": {},
   "outputs": [
    {
     "name": "stdout",
     "output_type": "stream",
     "text": [
      "25\n",
      "['D_42', 'D_49', 'D_53', 'D_66', 'D_73', 'D_76', 'R_9', 'D_82', 'B_29', 'D_87', 'D_88', 'D_106', 'R_26', 'D_108', 'D_110', 'D_111', 'B_39', 'B_42', 'D_132', 'D_134', 'D_135', 'D_136', 'D_137', 'D_138', 'D_142']\n"
     ]
    }
   ],
   "source": [
    "print(len(removed_cols))\n",
    "print(removed_cols)"
   ]
  },
  {
   "cell_type": "code",
   "execution_count": 8,
   "id": "6ddf9c4a",
   "metadata": {},
   "outputs": [
    {
     "data": {
      "text/plain": [
       "(500000, 165)"
      ]
     },
     "execution_count": 8,
     "metadata": {},
     "output_type": "execute_result"
    }
   ],
   "source": [
    "train_df.shape"
   ]
  },
  {
   "cell_type": "code",
   "execution_count": 9,
   "id": "0bfc9d37",
   "metadata": {},
   "outputs": [],
   "source": [
    "# Handling the missing Values \n",
    "# Imputing Categorical Columns with mode\n",
    "\n",
    "for col in train_df.columns:\n",
    "    if train_df[col].dtypes=='category':\n",
    "        train_df[col] = train_df[col].fillna(train_df[col].mode()[0])"
   ]
  },
  {
   "cell_type": "code",
   "execution_count": 10,
   "id": "c9342fc5",
   "metadata": {},
   "outputs": [],
   "source": [
    "# Handling the missing Values \n",
    "# Imputing Numerical Columns with median\n",
    "\n",
    "for col in train_df.columns:\n",
    "    if train_df[col].dtypes=='float64':\n",
    "        train_df[col] = train_df[col].fillna(train_df[col].median())"
   ]
  },
  {
   "cell_type": "markdown",
   "id": "8a7bb15f",
   "metadata": {},
   "source": [
    "## Data Pre-processing"
   ]
  },
  {
   "cell_type": "code",
   "execution_count": 11,
   "id": "9a52b16c",
   "metadata": {
    "scrolled": true
   },
   "outputs": [],
   "source": [
    "# Dummying the Categorical Columns\n",
    "\n",
    "cat_cols=[]\n",
    "for col in train_df.columns:\n",
    "    if train_df[col].dtypes=='category':\n",
    "        cat_cols.append(col)\n",
    "        \n",
    "train_df= pd.get_dummies(train_df, columns=cat_cols, drop_first=True)"
   ]
  },
  {
   "cell_type": "code",
   "execution_count": 12,
   "id": "6e478a33",
   "metadata": {},
   "outputs": [
    {
     "data": {
      "text/plain": [
       "(500000, 188)"
      ]
     },
     "execution_count": 12,
     "metadata": {},
     "output_type": "execute_result"
    }
   ],
   "source": [
    "train_df.shape"
   ]
  },
  {
   "cell_type": "code",
   "execution_count": 13,
   "id": "000b38f0",
   "metadata": {},
   "outputs": [
    {
     "name": "stdout",
     "output_type": "stream",
     "text": [
      "Elapsed time for Loading Data in seconds: 0.34375\n"
     ]
    }
   ],
   "source": [
    "# Loading the Training Labels\n",
    "\n",
    "t1_start = process_time()\n",
    "labels = pd.read_csv(r\"C:\\PC_Data\\DBDA\\Project\\train_labels.csv\")\n",
    "t1_stop = process_time()\n",
    "print(\"Elapsed time for Loading Data in seconds:\",t1_stop-t1_start)"
   ]
  },
  {
   "cell_type": "code",
   "execution_count": 14,
   "id": "10f9455a",
   "metadata": {},
   "outputs": [
    {
     "name": "stdout",
     "output_type": "stream",
     "text": [
      "Elapsed time for Merging Data in seconds: 0.1875\n"
     ]
    }
   ],
   "source": [
    "# Merging the Labels with Training Data\n",
    "\n",
    "t1_start = process_time()\n",
    "train_df = pd.merge(train_df, labels, on='customer_ID')\n",
    "t1_stop = process_time()\n",
    "print(\"Elapsed time for Merging Data in seconds:\",t1_stop-t1_start)"
   ]
  },
  {
   "cell_type": "code",
   "execution_count": 15,
   "id": "b753a052",
   "metadata": {
    "scrolled": true
   },
   "outputs": [
    {
     "name": "stdout",
     "output_type": "stream",
     "text": [
      "0    74.9978\n",
      "1    25.0022\n",
      "Name: target, dtype: float64\n"
     ]
    }
   ],
   "source": [
    "print(train_df['target'].value_counts()/len(train_df['target'])*100)"
   ]
  },
  {
   "cell_type": "code",
   "execution_count": 16,
   "id": "8720d1c8",
   "metadata": {},
   "outputs": [],
   "source": [
    "# The Data is highly imbalanced. Going ahead with a balancing technique."
   ]
  },
  {
   "cell_type": "code",
   "execution_count": 17,
   "id": "da2ddde4",
   "metadata": {},
   "outputs": [],
   "source": [
    "# Splitting the training data into x_train and y_train\n",
    "\n",
    "x_train = train_df.drop(['customer_ID','S_2','target'], axis=1)\n",
    "y_train = train_df['target']"
   ]
  },
  {
   "cell_type": "code",
   "execution_count": 18,
   "id": "42e83802",
   "metadata": {
    "scrolled": false
   },
   "outputs": [
    {
     "name": "stdout",
     "output_type": "stream",
     "text": [
      "(500000, 186)\n",
      "(500000,)\n"
     ]
    }
   ],
   "source": [
    "print(x_train.shape)\n",
    "print(y_train.shape)"
   ]
  },
  {
   "cell_type": "markdown",
   "id": "c5c05c18",
   "metadata": {},
   "source": [
    "## Balancing the Training Data"
   ]
  },
  {
   "cell_type": "code",
   "execution_count": 19,
   "id": "95d3f0ab",
   "metadata": {},
   "outputs": [
    {
     "name": "stdout",
     "output_type": "stream",
     "text": [
      "(array([0, 1], dtype=int64), array([374989, 374989], dtype=int64))\n"
     ]
    }
   ],
   "source": [
    "# SMOTE Technique\n",
    "from imblearn.over_sampling import SMOTE\n",
    "\n",
    "smo = SMOTE(random_state=100)\n",
    "x_resampled, y_resampled = smo.fit_resample(x_train, y_train)\n",
    "print(np.unique(y_resampled,return_counts=True))"
   ]
  },
  {
   "cell_type": "code",
   "execution_count": 42,
   "id": "74680393",
   "metadata": {},
   "outputs": [
    {
     "data": {
      "text/plain": [
       "(749978, 186)"
      ]
     },
     "execution_count": 42,
     "metadata": {},
     "output_type": "execute_result"
    }
   ],
   "source": [
    "x_resampled.shape"
   ]
  },
  {
   "cell_type": "code",
   "execution_count": 68,
   "id": "10c4af07",
   "metadata": {},
   "outputs": [
    {
     "name": "stdout",
     "output_type": "stream",
     "text": [
      "<class 'pandas.core.frame.DataFrame'>\n",
      "RangeIndex: 749978 entries, 0 to 749977\n",
      "Data columns (total 186 columns):\n",
      " #    Column     Non-Null Count   Dtype  \n",
      "---   ------     --------------   -----  \n",
      " 0    P_2        749978 non-null  float64\n",
      " 1    D_39       749978 non-null  float64\n",
      " 2    B_1        749978 non-null  float64\n",
      " 3    B_2        749978 non-null  float64\n",
      " 4    R_1        749978 non-null  float64\n",
      " 5    S_3        749978 non-null  float64\n",
      " 6    D_41       749978 non-null  float64\n",
      " 7    B_3        749978 non-null  float64\n",
      " 8    D_43       749978 non-null  float64\n",
      " 9    D_44       749978 non-null  float64\n",
      " 10   B_4        749978 non-null  float64\n",
      " 11   D_45       749978 non-null  float64\n",
      " 12   B_5        749978 non-null  float64\n",
      " 13   R_2        749978 non-null  float64\n",
      " 14   D_46       749978 non-null  float64\n",
      " 15   D_47       749978 non-null  float64\n",
      " 16   D_48       749978 non-null  float64\n",
      " 17   B_6        749978 non-null  float64\n",
      " 18   B_7        749978 non-null  float64\n",
      " 19   B_8        749978 non-null  float64\n",
      " 20   D_50       749978 non-null  float64\n",
      " 21   D_51       749978 non-null  float64\n",
      " 22   B_9        749978 non-null  float64\n",
      " 23   R_3        749978 non-null  float64\n",
      " 24   D_52       749978 non-null  float64\n",
      " 25   P_3        749978 non-null  float64\n",
      " 26   B_10       749978 non-null  float64\n",
      " 27   S_5        749978 non-null  float64\n",
      " 28   B_11       749978 non-null  float64\n",
      " 29   S_6        749978 non-null  float64\n",
      " 30   D_54       749978 non-null  float64\n",
      " 31   R_4        749978 non-null  float64\n",
      " 32   S_7        749978 non-null  float64\n",
      " 33   B_12       749978 non-null  float64\n",
      " 34   S_8        749978 non-null  float64\n",
      " 35   D_55       749978 non-null  float64\n",
      " 36   D_56       749978 non-null  float64\n",
      " 37   B_13       749978 non-null  float64\n",
      " 38   R_5        749978 non-null  float64\n",
      " 39   D_58       749978 non-null  float64\n",
      " 40   S_9        749978 non-null  float64\n",
      " 41   B_14       749978 non-null  float64\n",
      " 42   D_59       749978 non-null  float64\n",
      " 43   D_60       749978 non-null  float64\n",
      " 44   D_61       749978 non-null  float64\n",
      " 45   B_15       749978 non-null  float64\n",
      " 46   S_11       749978 non-null  float64\n",
      " 47   D_62       749978 non-null  float64\n",
      " 48   D_65       749978 non-null  float64\n",
      " 49   B_16       749978 non-null  float64\n",
      " 50   B_17       749978 non-null  float64\n",
      " 51   B_18       749978 non-null  float64\n",
      " 52   B_19       749978 non-null  float64\n",
      " 53   B_20       749978 non-null  float64\n",
      " 54   S_12       749978 non-null  float64\n",
      " 55   R_6        749978 non-null  float64\n",
      " 56   S_13       749978 non-null  float64\n",
      " 57   B_21       749978 non-null  float64\n",
      " 58   D_69       749978 non-null  float64\n",
      " 59   B_22       749978 non-null  float64\n",
      " 60   D_70       749978 non-null  float64\n",
      " 61   D_71       749978 non-null  float64\n",
      " 62   D_72       749978 non-null  float64\n",
      " 63   S_15       749978 non-null  float64\n",
      " 64   B_23       749978 non-null  float64\n",
      " 65   P_4        749978 non-null  float64\n",
      " 66   D_74       749978 non-null  float64\n",
      " 67   D_75       749978 non-null  float64\n",
      " 68   B_24       749978 non-null  float64\n",
      " 69   R_7        749978 non-null  float64\n",
      " 70   D_77       749978 non-null  float64\n",
      " 71   B_25       749978 non-null  float64\n",
      " 72   B_26       749978 non-null  float64\n",
      " 73   D_78       749978 non-null  float64\n",
      " 74   D_79       749978 non-null  float64\n",
      " 75   R_8        749978 non-null  float64\n",
      " 76   S_16       749978 non-null  float64\n",
      " 77   D_80       749978 non-null  float64\n",
      " 78   R_10       749978 non-null  float64\n",
      " 79   R_11       749978 non-null  float64\n",
      " 80   B_27       749978 non-null  float64\n",
      " 81   D_81       749978 non-null  float64\n",
      " 82   S_17       749978 non-null  float64\n",
      " 83   R_12       749978 non-null  float64\n",
      " 84   B_28       749978 non-null  float64\n",
      " 85   R_13       749978 non-null  float64\n",
      " 86   D_83       749978 non-null  float64\n",
      " 87   R_14       749978 non-null  float64\n",
      " 88   R_15       749978 non-null  float64\n",
      " 89   D_84       749978 non-null  float64\n",
      " 90   R_16       749978 non-null  float64\n",
      " 91   S_18       749978 non-null  float64\n",
      " 92   D_86       749978 non-null  float64\n",
      " 93   R_17       749978 non-null  float64\n",
      " 94   R_18       749978 non-null  float64\n",
      " 95   B_31       749978 non-null  int64  \n",
      " 96   S_19       749978 non-null  float64\n",
      " 97   R_19       749978 non-null  float64\n",
      " 98   B_32       749978 non-null  float64\n",
      " 99   S_20       749978 non-null  float64\n",
      " 100  R_20       749978 non-null  float64\n",
      " 101  R_21       749978 non-null  float64\n",
      " 102  B_33       749978 non-null  float64\n",
      " 103  D_89       749978 non-null  float64\n",
      " 104  R_22       749978 non-null  float64\n",
      " 105  R_23       749978 non-null  float64\n",
      " 106  D_91       749978 non-null  float64\n",
      " 107  D_92       749978 non-null  float64\n",
      " 108  D_93       749978 non-null  float64\n",
      " 109  D_94       749978 non-null  float64\n",
      " 110  R_24       749978 non-null  float64\n",
      " 111  R_25       749978 non-null  float64\n",
      " 112  D_96       749978 non-null  float64\n",
      " 113  S_22       749978 non-null  float64\n",
      " 114  S_23       749978 non-null  float64\n",
      " 115  S_24       749978 non-null  float64\n",
      " 116  S_25       749978 non-null  float64\n",
      " 117  S_26       749978 non-null  float64\n",
      " 118  D_102      749978 non-null  float64\n",
      " 119  D_103      749978 non-null  float64\n",
      " 120  D_104      749978 non-null  float64\n",
      " 121  D_105      749978 non-null  float64\n",
      " 122  D_107      749978 non-null  float64\n",
      " 123  B_36       749978 non-null  float64\n",
      " 124  B_37       749978 non-null  float64\n",
      " 125  R_27       749978 non-null  float64\n",
      " 126  D_109      749978 non-null  float64\n",
      " 127  D_112      749978 non-null  float64\n",
      " 128  B_40       749978 non-null  float64\n",
      " 129  S_27       749978 non-null  float64\n",
      " 130  D_113      749978 non-null  float64\n",
      " 131  D_115      749978 non-null  float64\n",
      " 132  D_118      749978 non-null  float64\n",
      " 133  D_119      749978 non-null  float64\n",
      " 134  D_121      749978 non-null  float64\n",
      " 135  D_122      749978 non-null  float64\n",
      " 136  D_123      749978 non-null  float64\n",
      " 137  D_124      749978 non-null  float64\n",
      " 138  D_125      749978 non-null  float64\n",
      " 139  D_127      749978 non-null  float64\n",
      " 140  D_128      749978 non-null  float64\n",
      " 141  D_129      749978 non-null  float64\n",
      " 142  B_41       749978 non-null  float64\n",
      " 143  D_130      749978 non-null  float64\n",
      " 144  D_131      749978 non-null  float64\n",
      " 145  D_133      749978 non-null  float64\n",
      " 146  R_28       749978 non-null  float64\n",
      " 147  D_139      749978 non-null  float64\n",
      " 148  D_140      749978 non-null  float64\n",
      " 149  D_141      749978 non-null  float64\n",
      " 150  D_143      749978 non-null  float64\n",
      " 151  D_144      749978 non-null  float64\n",
      " 152  D_145      749978 non-null  float64\n",
      " 153  D_63_CO    749978 non-null  uint8  \n",
      " 154  D_63_CR    749978 non-null  uint8  \n",
      " 155  D_63_XL    749978 non-null  uint8  \n",
      " 156  D_63_XM    749978 non-null  uint8  \n",
      " 157  D_63_XZ    749978 non-null  uint8  \n",
      " 158  D_64_O     749978 non-null  uint8  \n",
      " 159  D_64_R     749978 non-null  uint8  \n",
      " 160  D_64_U     749978 non-null  uint8  \n",
      " 161  D_68_1.0   749978 non-null  uint8  \n",
      " 162  D_68_2.0   749978 non-null  uint8  \n",
      " 163  D_68_3.0   749978 non-null  uint8  \n",
      " 164  D_68_4.0   749978 non-null  uint8  \n",
      " 165  D_68_5.0   749978 non-null  uint8  \n",
      " 166  D_68_6.0   749978 non-null  uint8  \n",
      " 167  B_30_1.0   749978 non-null  uint8  \n",
      " 168  B_30_2.0   749978 non-null  uint8  \n",
      " 169  B_38_2.0   749978 non-null  uint8  \n",
      " 170  B_38_3.0   749978 non-null  uint8  \n",
      " 171  B_38_4.0   749978 non-null  uint8  \n",
      " 172  B_38_5.0   749978 non-null  uint8  \n",
      " 173  B_38_6.0   749978 non-null  uint8  \n",
      " 174  B_38_7.0   749978 non-null  uint8  \n",
      " 175  D_114_1.0  749978 non-null  uint8  \n",
      " 176  D_116_1.0  749978 non-null  uint8  \n",
      " 177  D_117_1.0  749978 non-null  uint8  \n",
      " 178  D_117_2.0  749978 non-null  uint8  \n",
      " 179  D_117_3.0  749978 non-null  uint8  \n",
      " 180  D_117_4.0  749978 non-null  uint8  \n",
      " 181  D_117_5.0  749978 non-null  uint8  \n",
      " 182  D_117_6.0  749978 non-null  uint8  \n",
      " 183  D_120_1.0  749978 non-null  uint8  \n",
      " 184  D_126_0.0  749978 non-null  uint8  \n",
      " 185  D_126_1.0  749978 non-null  uint8  \n",
      "dtypes: float64(152), int64(1), uint8(33)\n",
      "memory usage: 899.1 MB\n"
     ]
    }
   ],
   "source": [
    "x_resampled.info(max_cols=190)"
   ]
  },
  {
   "cell_type": "code",
   "execution_count": 20,
   "id": "92d5f80e",
   "metadata": {},
   "outputs": [],
   "source": [
    "del x_train, y_train"
   ]
  },
  {
   "cell_type": "markdown",
   "id": "18005f88",
   "metadata": {},
   "source": [
    "## Model Training "
   ]
  },
  {
   "cell_type": "code",
   "execution_count": 21,
   "id": "0f15294a",
   "metadata": {},
   "outputs": [],
   "source": [
    "from lightgbm import LGBMClassifier\n",
    "from sklearn.model_selection import StratifiedKFold, GridSearchCV"
   ]
  },
  {
   "cell_type": "code",
   "execution_count": 22,
   "id": "a287de09",
   "metadata": {},
   "outputs": [],
   "source": [
    "# Parameter Tuning\n",
    "params = {'boosting_type': ['gbdt'],\n",
    "          'is_unbalance': [False],\n",
    "          'max_bin': [900],\n",
    "          'learning_rate': [0.05, 0.1],\n",
    "          'max_depth': [9],\n",
    "          'num_leaves' : [400], \n",
    "          'objective': ['binary']}"
   ]
  },
  {
   "cell_type": "code",
   "execution_count": 23,
   "id": "253f9d23",
   "metadata": {},
   "outputs": [
    {
     "name": "stdout",
     "output_type": "stream",
     "text": [
      "Fitting 5 folds for each of 2 candidates, totalling 10 fits\n",
      "[CV 1/5] END boosting_type=gbdt, is_unbalance=False, learning_rate=0.05, max_bin=900, max_depth=9, num_leaves=400, objective=binary;, score=0.974 total time=  58.9s\n",
      "[CV 2/5] END boosting_type=gbdt, is_unbalance=False, learning_rate=0.05, max_bin=900, max_depth=9, num_leaves=400, objective=binary;, score=0.975 total time=  54.6s\n",
      "[CV 3/5] END boosting_type=gbdt, is_unbalance=False, learning_rate=0.05, max_bin=900, max_depth=9, num_leaves=400, objective=binary;, score=0.973 total time=  53.4s\n",
      "[CV 4/5] END boosting_type=gbdt, is_unbalance=False, learning_rate=0.05, max_bin=900, max_depth=9, num_leaves=400, objective=binary;, score=0.974 total time=  53.3s\n",
      "[CV 5/5] END boosting_type=gbdt, is_unbalance=False, learning_rate=0.05, max_bin=900, max_depth=9, num_leaves=400, objective=binary;, score=0.974 total time= 1.1min\n",
      "[CV 1/5] END boosting_type=gbdt, is_unbalance=False, learning_rate=0.1, max_bin=900, max_depth=9, num_leaves=400, objective=binary;, score=0.980 total time= 1.1min\n",
      "[CV 2/5] END boosting_type=gbdt, is_unbalance=False, learning_rate=0.1, max_bin=900, max_depth=9, num_leaves=400, objective=binary;, score=0.980 total time=  56.3s\n",
      "[CV 3/5] END boosting_type=gbdt, is_unbalance=False, learning_rate=0.1, max_bin=900, max_depth=9, num_leaves=400, objective=binary;, score=0.979 total time=  57.5s\n",
      "[CV 4/5] END boosting_type=gbdt, is_unbalance=False, learning_rate=0.1, max_bin=900, max_depth=9, num_leaves=400, objective=binary;, score=0.980 total time=  53.1s\n",
      "[CV 5/5] END boosting_type=gbdt, is_unbalance=False, learning_rate=0.1, max_bin=900, max_depth=9, num_leaves=400, objective=binary;, score=0.979 total time=  52.8s\n"
     ]
    },
    {
     "data": {
      "text/html": [
       "<style>#sk-container-id-1 {color: black;background-color: white;}#sk-container-id-1 pre{padding: 0;}#sk-container-id-1 div.sk-toggleable {background-color: white;}#sk-container-id-1 label.sk-toggleable__label {cursor: pointer;display: block;width: 100%;margin-bottom: 0;padding: 0.3em;box-sizing: border-box;text-align: center;}#sk-container-id-1 label.sk-toggleable__label-arrow:before {content: \"▸\";float: left;margin-right: 0.25em;color: #696969;}#sk-container-id-1 label.sk-toggleable__label-arrow:hover:before {color: black;}#sk-container-id-1 div.sk-estimator:hover label.sk-toggleable__label-arrow:before {color: black;}#sk-container-id-1 div.sk-toggleable__content {max-height: 0;max-width: 0;overflow: hidden;text-align: left;background-color: #f0f8ff;}#sk-container-id-1 div.sk-toggleable__content pre {margin: 0.2em;color: black;border-radius: 0.25em;background-color: #f0f8ff;}#sk-container-id-1 input.sk-toggleable__control:checked~div.sk-toggleable__content {max-height: 200px;max-width: 100%;overflow: auto;}#sk-container-id-1 input.sk-toggleable__control:checked~label.sk-toggleable__label-arrow:before {content: \"▾\";}#sk-container-id-1 div.sk-estimator input.sk-toggleable__control:checked~label.sk-toggleable__label {background-color: #d4ebff;}#sk-container-id-1 div.sk-label input.sk-toggleable__control:checked~label.sk-toggleable__label {background-color: #d4ebff;}#sk-container-id-1 input.sk-hidden--visually {border: 0;clip: rect(1px 1px 1px 1px);clip: rect(1px, 1px, 1px, 1px);height: 1px;margin: -1px;overflow: hidden;padding: 0;position: absolute;width: 1px;}#sk-container-id-1 div.sk-estimator {font-family: monospace;background-color: #f0f8ff;border: 1px dotted black;border-radius: 0.25em;box-sizing: border-box;margin-bottom: 0.5em;}#sk-container-id-1 div.sk-estimator:hover {background-color: #d4ebff;}#sk-container-id-1 div.sk-parallel-item::after {content: \"\";width: 100%;border-bottom: 1px solid gray;flex-grow: 1;}#sk-container-id-1 div.sk-label:hover label.sk-toggleable__label {background-color: #d4ebff;}#sk-container-id-1 div.sk-serial::before {content: \"\";position: absolute;border-left: 1px solid gray;box-sizing: border-box;top: 0;bottom: 0;left: 50%;z-index: 0;}#sk-container-id-1 div.sk-serial {display: flex;flex-direction: column;align-items: center;background-color: white;padding-right: 0.2em;padding-left: 0.2em;position: relative;}#sk-container-id-1 div.sk-item {position: relative;z-index: 1;}#sk-container-id-1 div.sk-parallel {display: flex;align-items: stretch;justify-content: center;background-color: white;position: relative;}#sk-container-id-1 div.sk-item::before, #sk-container-id-1 div.sk-parallel-item::before {content: \"\";position: absolute;border-left: 1px solid gray;box-sizing: border-box;top: 0;bottom: 0;left: 50%;z-index: -1;}#sk-container-id-1 div.sk-parallel-item {display: flex;flex-direction: column;z-index: 1;position: relative;background-color: white;}#sk-container-id-1 div.sk-parallel-item:first-child::after {align-self: flex-end;width: 50%;}#sk-container-id-1 div.sk-parallel-item:last-child::after {align-self: flex-start;width: 50%;}#sk-container-id-1 div.sk-parallel-item:only-child::after {width: 0;}#sk-container-id-1 div.sk-dashed-wrapped {border: 1px dashed gray;margin: 0 0.4em 0.5em 0.4em;box-sizing: border-box;padding-bottom: 0.4em;background-color: white;}#sk-container-id-1 div.sk-label label {font-family: monospace;font-weight: bold;display: inline-block;line-height: 1.2em;}#sk-container-id-1 div.sk-label-container {text-align: center;}#sk-container-id-1 div.sk-container {/* jupyter's `normalize.less` sets `[hidden] { display: none; }` but bootstrap.min.css set `[hidden] { display: none !important; }` so we also need the `!important` here to be able to override the default hidden behavior on the sphinx rendered scikit-learn.org. See: https://github.com/scikit-learn/scikit-learn/issues/21755 */display: inline-block !important;position: relative;}#sk-container-id-1 div.sk-text-repr-fallback {display: none;}</style><div id=\"sk-container-id-1\" class=\"sk-top-container\"><div class=\"sk-text-repr-fallback\"><pre>GridSearchCV(cv=StratifiedKFold(n_splits=5, random_state=100, shuffle=True),\n",
       "             estimator=LGBMClassifier(),\n",
       "             param_grid={&#x27;boosting_type&#x27;: [&#x27;gbdt&#x27;], &#x27;is_unbalance&#x27;: [False],\n",
       "                         &#x27;learning_rate&#x27;: [0.05, 0.1], &#x27;max_bin&#x27;: [900],\n",
       "                         &#x27;max_depth&#x27;: [9], &#x27;num_leaves&#x27;: [400],\n",
       "                         &#x27;objective&#x27;: [&#x27;binary&#x27;]},\n",
       "             scoring=&#x27;roc_auc&#x27;, verbose=3)</pre><b>In a Jupyter environment, please rerun this cell to show the HTML representation or trust the notebook. <br />On GitHub, the HTML representation is unable to render, please try loading this page with nbviewer.org.</b></div><div class=\"sk-container\" hidden><div class=\"sk-item sk-dashed-wrapped\"><div class=\"sk-label-container\"><div class=\"sk-label sk-toggleable\"><input class=\"sk-toggleable__control sk-hidden--visually\" id=\"sk-estimator-id-1\" type=\"checkbox\" ><label for=\"sk-estimator-id-1\" class=\"sk-toggleable__label sk-toggleable__label-arrow\">GridSearchCV</label><div class=\"sk-toggleable__content\"><pre>GridSearchCV(cv=StratifiedKFold(n_splits=5, random_state=100, shuffle=True),\n",
       "             estimator=LGBMClassifier(),\n",
       "             param_grid={&#x27;boosting_type&#x27;: [&#x27;gbdt&#x27;], &#x27;is_unbalance&#x27;: [False],\n",
       "                         &#x27;learning_rate&#x27;: [0.05, 0.1], &#x27;max_bin&#x27;: [900],\n",
       "                         &#x27;max_depth&#x27;: [9], &#x27;num_leaves&#x27;: [400],\n",
       "                         &#x27;objective&#x27;: [&#x27;binary&#x27;]},\n",
       "             scoring=&#x27;roc_auc&#x27;, verbose=3)</pre></div></div></div><div class=\"sk-parallel\"><div class=\"sk-parallel-item\"><div class=\"sk-item\"><div class=\"sk-label-container\"><div class=\"sk-label sk-toggleable\"><input class=\"sk-toggleable__control sk-hidden--visually\" id=\"sk-estimator-id-2\" type=\"checkbox\" ><label for=\"sk-estimator-id-2\" class=\"sk-toggleable__label sk-toggleable__label-arrow\">estimator: LGBMClassifier</label><div class=\"sk-toggleable__content\"><pre>LGBMClassifier()</pre></div></div></div><div class=\"sk-serial\"><div class=\"sk-item\"><div class=\"sk-estimator sk-toggleable\"><input class=\"sk-toggleable__control sk-hidden--visually\" id=\"sk-estimator-id-3\" type=\"checkbox\" ><label for=\"sk-estimator-id-3\" class=\"sk-toggleable__label sk-toggleable__label-arrow\">LGBMClassifier</label><div class=\"sk-toggleable__content\"><pre>LGBMClassifier()</pre></div></div></div></div></div></div></div></div></div></div>"
      ],
      "text/plain": [
       "GridSearchCV(cv=StratifiedKFold(n_splits=5, random_state=100, shuffle=True),\n",
       "             estimator=LGBMClassifier(),\n",
       "             param_grid={'boosting_type': ['gbdt'], 'is_unbalance': [False],\n",
       "                         'learning_rate': [0.05, 0.1], 'max_bin': [900],\n",
       "                         'max_depth': [9], 'num_leaves': [400],\n",
       "                         'objective': ['binary']},\n",
       "             scoring='roc_auc', verbose=3)"
      ]
     },
     "execution_count": 23,
     "metadata": {},
     "output_type": "execute_result"
    }
   ],
   "source": [
    "# Model Training \n",
    "\n",
    "kfold = StratifiedKFold(n_splits=5, shuffle=True ,random_state=100)\n",
    "lgbm = LGBMClassifier()\n",
    "\n",
    "gcv = GridSearchCV(lgbm,param_grid=params,scoring='roc_auc',cv=kfold, verbose=3)\n",
    "gcv.fit(x_resampled, y_resampled)"
   ]
  },
  {
   "cell_type": "code",
   "execution_count": 24,
   "id": "9ad1f20c",
   "metadata": {},
   "outputs": [
    {
     "name": "stdout",
     "output_type": "stream",
     "text": [
      "{'boosting_type': 'gbdt', 'is_unbalance': False, 'learning_rate': 0.1, 'max_bin': 900, 'max_depth': 9, 'num_leaves': 400, 'objective': 'binary'}\n",
      "0.9797965487983722\n"
     ]
    }
   ],
   "source": [
    "print(gcv.best_params_)\n",
    "print(gcv.best_score_)"
   ]
  },
  {
   "cell_type": "code",
   "execution_count": 25,
   "id": "c7822204",
   "metadata": {},
   "outputs": [
    {
     "data": {
      "image/png": "[encoded data removed]",
      "text/plain": [
       "<Figure size 432x288 with 1 Axes>"
      ]
     },
     "metadata": {
      "needs_background": "light"
     },
     "output_type": "display_data"
    }
   ],
   "source": [
    "# Plotting a Feature Importance Plot\n",
    "\n",
    "best_model = gcv.best_estimator_\n",
    "#sorted Important Features Plot:\n",
    "importances = best_model.feature_importances_\n",
    "col_names = x_resampled.columns\n",
    "neg_imp = -1*importances\n",
    "i_desc_sorted = neg_imp.argsort()\n",
    "imp_sorted = importances[i_desc_sorted][:10]\n",
    "col_sorted = col_names[i_desc_sorted][:10]\n",
    "plt.title('Sorted Feature Importance Plot')\n",
    "plt.bar(col_sorted,imp_sorted)\n",
    "plt.xticks(rotation=90)\n",
    "plt.ylabel('Importances')\n",
    "plt.xlabel('Features')\n",
    "plt.rcParams[\"figure.figsize\"] = (10,10)\n",
    "plt.rcParams.update({'font.size': 12})\n",
    "plt.show()"
   ]
  },
  {
   "cell_type": "code",
   "execution_count": 26,
   "id": "b7d74c95",
   "metadata": {},
   "outputs": [],
   "source": [
    "best_model = gcv.best_estimator_"
   ]
  },
  {
   "cell_type": "markdown",
   "id": "50a19d71",
   "metadata": {},
   "source": [
    "## Best Score Achieved\n",
    "\n",
    "### Params:\n",
    "\n",
    "{'boosting_type': 'gbdt', 'is_unbalance': False, 'learning_rate': 0.1, 'max_bin': 900, 'max_depth': 9, 'num_leaves': 400, 'objective': 'binary'}\n",
    "\n",
    "### ROC_AUC Score:\n",
    "0.9797965487983722"
   ]
  },
  {
   "cell_type": "markdown",
   "id": "ac81f78c",
   "metadata": {},
   "source": [
    "## Validating the Model"
   ]
  },
  {
   "cell_type": "code",
   "execution_count": 163,
   "id": "a5d6e6d5",
   "metadata": {},
   "outputs": [],
   "source": [
    "# Loading the validation set\n",
    "\n",
    "validation_df = pd.read_feather(r\"C:\\PC_Data\\DBDA\\Project\\validation_set-1_last-100K.ftr\")"
   ]
  },
  {
   "cell_type": "code",
   "execution_count": 164,
   "id": "9dc1fbf5",
   "metadata": {},
   "outputs": [
    {
     "data": {
      "text/plain": [
       "(100000, 191)"
      ]
     },
     "execution_count": 164,
     "metadata": {},
     "output_type": "execute_result"
    }
   ],
   "source": [
    "validation_df.shape"
   ]
  },
  {
   "cell_type": "code",
   "execution_count": 188,
   "id": "c8826377",
   "metadata": {},
   "outputs": [
    {
     "name": "stdout",
     "output_type": "stream",
     "text": [
      "<class 'pandas.core.frame.DataFrame'>\n",
      "RangeIndex: 100000 entries, 5431451 to 5531450\n",
      "Columns: 190 entries, customer_ID to D_126_1.0\n",
      "dtypes: datetime64[ns](1), float16(153), int64(1), object(1), uint8(34)\n",
      "memory usage: 34.7+ MB\n"
     ]
    }
   ],
   "source": [
    "validation_df.info()"
   ]
  },
  {
   "cell_type": "markdown",
   "id": "684155dd",
   "metadata": {},
   "source": [
    "### Data Cleaning"
   ]
  },
  {
   "cell_type": "code",
   "execution_count": 166,
   "id": "b579a14d",
   "metadata": {},
   "outputs": [],
   "source": [
    "# Dropping the Columns with Null Values more than 70%, in line with Training Data\n",
    "\n",
    "for col in removed_cols:\n",
    "    validation_df.drop(col, axis=1, inplace=True)"
   ]
  },
  {
   "cell_type": "code",
   "execution_count": 167,
   "id": "ebc6dde0",
   "metadata": {},
   "outputs": [
    {
     "data": {
      "text/plain": [
       "(100000, 166)"
      ]
     },
     "execution_count": 167,
     "metadata": {},
     "output_type": "execute_result"
    }
   ],
   "source": [
    "validation_df.shape"
   ]
  },
  {
   "cell_type": "code",
   "execution_count": 168,
   "id": "acd48532",
   "metadata": {},
   "outputs": [],
   "source": [
    "# Handling the missing Values \n",
    "# Imputing Categorical Columns with mode\n",
    "\n",
    "for col in validation_df.columns:\n",
    "    if validation_df[col].dtypes=='category':\n",
    "        validation_df[col] = validation_df[col].fillna(validation_df[col].mode()[0])"
   ]
  },
  {
   "cell_type": "code",
   "execution_count": 169,
   "id": "98d2b04d",
   "metadata": {},
   "outputs": [],
   "source": [
    "# Handling the missing Values \n",
    "# Imputing Numerical Columns with median\n",
    "\n",
    "for col in validation_df.columns:\n",
    "    if validation_df[col].dtypes=='float16':\n",
    "        validation_df[col] = validation_df[col].fillna(validation_df[col].median())"
   ]
  },
  {
   "cell_type": "markdown",
   "id": "d4405c28",
   "metadata": {},
   "source": [
    "### Data Pre-processing"
   ]
  },
  {
   "cell_type": "code",
   "execution_count": 170,
   "id": "17b17cdb",
   "metadata": {},
   "outputs": [],
   "source": [
    "# Dummying the Categorical Columns\n",
    "\n",
    "cat_cols_val=[]\n",
    "for col in validation_df.columns:\n",
    "    if validation_df[col].dtypes=='category':\n",
    "        cat_cols_val.append(col)\n",
    "        \n",
    "validation_df= pd.get_dummies(validation_df, columns=cat_cols_val, drop_first=True)"
   ]
  },
  {
   "cell_type": "code",
   "execution_count": 171,
   "id": "a49098f4",
   "metadata": {},
   "outputs": [
    {
     "data": {
      "text/plain": [
       "(100000, 190)"
      ]
     },
     "execution_count": 171,
     "metadata": {},
     "output_type": "execute_result"
    }
   ],
   "source": [
    "validation_df.shape"
   ]
  },
  {
   "cell_type": "code",
   "execution_count": 172,
   "id": "8ec19f36",
   "metadata": {},
   "outputs": [],
   "source": [
    "# Identifying the extra column\n",
    "ex_col=[]\n",
    "for col_1 in validation_df.columns:\n",
    "    if col_1 not in x_resampled.columns:\n",
    "        ex_col.append(col_1)"
   ]
  },
  {
   "cell_type": "code",
   "execution_count": 173,
   "id": "fb5d4627",
   "metadata": {},
   "outputs": [
    {
     "data": {
      "text/plain": [
       "['customer_ID', 'S_2', 'target', 'D_64_-1']"
      ]
     },
     "execution_count": 173,
     "metadata": {},
     "output_type": "execute_result"
    }
   ],
   "source": [
    "(ex_col)"
   ]
  },
  {
   "cell_type": "code",
   "execution_count": 174,
   "id": "d2c6bcd3",
   "metadata": {},
   "outputs": [],
   "source": [
    "val_test = validation_df.drop(['customer_ID','S_2', 'target', 'D_64_-1'], axis=1)"
   ]
  },
  {
   "cell_type": "code",
   "execution_count": 175,
   "id": "9774fe08",
   "metadata": {},
   "outputs": [
    {
     "data": {
      "text/plain": [
       "(100000, 186)"
      ]
     },
     "execution_count": 175,
     "metadata": {},
     "output_type": "execute_result"
    }
   ],
   "source": [
    "val_test.shape"
   ]
  },
  {
   "cell_type": "code",
   "execution_count": 142,
   "id": "c9562fb6",
   "metadata": {},
   "outputs": [],
   "source": [
    "#del validation_df, val_test, val_result"
   ]
  },
  {
   "cell_type": "markdown",
   "id": "2fbb20c1",
   "metadata": {},
   "source": [
    "### Predicting on Validation Set"
   ]
  },
  {
   "cell_type": "code",
   "execution_count": 176,
   "id": "572f6173",
   "metadata": {},
   "outputs": [],
   "source": [
    "val_result = best_model.predict(val_test)"
   ]
  },
  {
   "cell_type": "code",
   "execution_count": 177,
   "id": "87719c52",
   "metadata": {},
   "outputs": [],
   "source": [
    "val_result_prob = best_model.predict_proba(val_test)"
   ]
  },
  {
   "cell_type": "code",
   "execution_count": 178,
   "id": "ad2a4d2e",
   "metadata": {},
   "outputs": [],
   "source": [
    "comp_df = validation_df[['customer_ID','target']]"
   ]
  },
  {
   "cell_type": "code",
   "execution_count": 179,
   "id": "a9219aa4",
   "metadata": {},
   "outputs": [
    {
     "name": "stderr",
     "output_type": "stream",
     "text": [
      "C:\\Users\\proje\\AppData\\Local\\Temp\\ipykernel_11628\\3674168554.py:1: SettingWithCopyWarning: \n",
      "A value is trying to be set on a copy of a slice from a DataFrame.\n",
      "Try using .loc[row_indexer,col_indexer] = value instead\n",
      "\n",
      "See the caveats in the documentation: https://pandas.pydata.org/pandas-docs/stable/user_guide/indexing.html#returning-a-view-versus-a-copy\n",
      "  comp_df['prediction'] = val_result.tolist()\n"
     ]
    }
   ],
   "source": [
    "comp_df['prediction'] = val_result.tolist()"
   ]
  },
  {
   "cell_type": "code",
   "execution_count": 180,
   "id": "24c87ec6",
   "metadata": {},
   "outputs": [
    {
     "data": {
      "text/html": [
       "<div>\n",
       "<style scoped>\n",
       "    .dataframe tbody tr th:only-of-type {\n",
       "        vertical-align: middle;\n",
       "    }\n",
       "\n",
       "    .dataframe tbody tr th {\n",
       "        vertical-align: top;\n",
       "    }\n",
       "\n",
       "    .dataframe thead th {\n",
       "        text-align: right;\n",
       "    }\n",
       "</style>\n",
       "<table border=\"1\" class=\"dataframe\">\n",
       "  <thead>\n",
       "    <tr style=\"text-align: right;\">\n",
       "      <th></th>\n",
       "      <th>customer_ID</th>\n",
       "      <th>target</th>\n",
       "      <th>prediction</th>\n",
       "    </tr>\n",
       "  </thead>\n",
       "  <tbody>\n",
       "    <tr>\n",
       "      <th>5431451</th>\n",
       "      <td>fb6390864b705040850d5e4c19115c0ba665338679a4f0...</td>\n",
       "      <td>0</td>\n",
       "      <td>0</td>\n",
       "    </tr>\n",
       "    <tr>\n",
       "      <th>5431452</th>\n",
       "      <td>fb6390864b705040850d5e4c19115c0ba665338679a4f0...</td>\n",
       "      <td>0</td>\n",
       "      <td>0</td>\n",
       "    </tr>\n",
       "    <tr>\n",
       "      <th>5431453</th>\n",
       "      <td>fb6390864b705040850d5e4c19115c0ba665338679a4f0...</td>\n",
       "      <td>0</td>\n",
       "      <td>0</td>\n",
       "    </tr>\n",
       "    <tr>\n",
       "      <th>5431454</th>\n",
       "      <td>fb6390864b705040850d5e4c19115c0ba665338679a4f0...</td>\n",
       "      <td>0</td>\n",
       "      <td>0</td>\n",
       "    </tr>\n",
       "    <tr>\n",
       "      <th>5431455</th>\n",
       "      <td>fb6390864b705040850d5e4c19115c0ba665338679a4f0...</td>\n",
       "      <td>0</td>\n",
       "      <td>0</td>\n",
       "    </tr>\n",
       "  </tbody>\n",
       "</table>\n",
       "</div>"
      ],
      "text/plain": [
       "                                               customer_ID  target  prediction\n",
       "5431451  fb6390864b705040850d5e4c19115c0ba665338679a4f0...       0           0\n",
       "5431452  fb6390864b705040850d5e4c19115c0ba665338679a4f0...       0           0\n",
       "5431453  fb6390864b705040850d5e4c19115c0ba665338679a4f0...       0           0\n",
       "5431454  fb6390864b705040850d5e4c19115c0ba665338679a4f0...       0           0\n",
       "5431455  fb6390864b705040850d5e4c19115c0ba665338679a4f0...       0           0"
      ]
     },
     "execution_count": 180,
     "metadata": {},
     "output_type": "execute_result"
    }
   ],
   "source": [
    "comp_df.head()"
   ]
  },
  {
   "cell_type": "code",
   "execution_count": 181,
   "id": "d188f801",
   "metadata": {},
   "outputs": [
    {
     "name": "stdout",
     "output_type": "stream",
     "text": [
      "0    75062\n",
      "1    24938\n",
      "Name: target, dtype: int64\n",
      "0    71771\n",
      "1    28229\n",
      "Name: prediction, dtype: int64\n"
     ]
    }
   ],
   "source": [
    "print(comp_df['target'].value_counts())\n",
    "print(comp_df['prediction'].value_counts())"
   ]
  },
  {
   "cell_type": "code",
   "execution_count": 182,
   "id": "569f9812",
   "metadata": {},
   "outputs": [],
   "source": [
    "#y_true = comp_df['target']"
   ]
  },
  {
   "cell_type": "code",
   "execution_count": 183,
   "id": "89c22fbe",
   "metadata": {},
   "outputs": [],
   "source": [
    "import numpy as np\n",
    "\n",
    "y_true = np.array(list(comp_df['target']))"
   ]
  },
  {
   "cell_type": "code",
   "execution_count": 184,
   "id": "6dfaf2e7",
   "metadata": {},
   "outputs": [
    {
     "data": {
      "text/plain": [
       "array([0, 0, 0, ..., 0, 0, 0], dtype=int64)"
      ]
     },
     "execution_count": 184,
     "metadata": {},
     "output_type": "execute_result"
    }
   ],
   "source": [
    "val_result"
   ]
  },
  {
   "cell_type": "code",
   "execution_count": 185,
   "id": "4958672a",
   "metadata": {},
   "outputs": [
    {
     "name": "stdout",
     "output_type": "stream",
     "text": [
      "              precision    recall  f1-score   support\n",
      "\n",
      "           0       0.93      0.89      0.91     75062\n",
      "           1       0.71      0.80      0.75     24938\n",
      "\n",
      "    accuracy                           0.87    100000\n",
      "   macro avg       0.82      0.85      0.83    100000\n",
      "weighted avg       0.88      0.87      0.87    100000\n",
      "\n"
     ]
    }
   ],
   "source": [
    "from sklearn.metrics import classification_report\n",
    "\n",
    "print(classification_report(y_true, val_result))"
   ]
  },
  {
   "cell_type": "code",
   "execution_count": 186,
   "id": "b066e5ef",
   "metadata": {},
   "outputs": [
    {
     "name": "stdout",
     "output_type": "stream",
     "text": [
      "[[66815  8247]\n",
      " [ 4956 19982]]\n",
      "0.28813973776028556\n"
     ]
    }
   ],
   "source": [
    "from sklearn.metrics import confusion_matrix, log_loss\n",
    "\n",
    "print(confusion_matrix(y_true, val_result))\n",
    "print(log_loss(y_true, val_result_prob))"
   ]
  },
  {
   "cell_type": "markdown",
   "id": "1212b7c1",
   "metadata": {},
   "source": [
    "## Results achieved with LGBM, Balancing  - Validating with All Customer_IDs in Train Set:\n",
    "\n",
    "              precision    recall  f1-score   support\n",
    "\n",
    "           0       0.95      0.89      0.92    340085\n",
    "           1       0.74      0.87      0.80    118828\n",
    "\n",
    "    accuracy                           0.89    458913\n",
    "   macro avg       0.84      0.88      0.86    458913\n",
    "weighted avg       0.90      0.89      0.89    458913\n",
    "\n",
    "### Confusion Matrix:\n",
    "\n",
    "[[303037  37048]\n",
    " [ 14985 103843]]\n",
    "\n",
    "### Log_Loss:\n",
    "0.25137367581739917"
   ]
  },
  {
   "cell_type": "markdown",
   "id": "d754083e",
   "metadata": {},
   "source": [
    " ## Results achieved with LGBM, Balancing - Validating with Last 100K obs in Train Set:\n",
    "\n",
    "\n",
    "              precision    recall  f1-score   support\n",
    "\n",
    "           0       0.93      0.89      0.91     75062\n",
    "           1       0.71      0.80      0.75     24938\n",
    "\n",
    "    accuracy                           0.87    100000\n",
    "   macro avg       0.82      0.85      0.83    100000\n",
    "weighted avg       0.88      0.87      0.87    100000\n",
    "\n",
    "### Confusion Matrix:\n",
    "\n",
    "[[66815  8247]\n",
    " [ 4956 19982]]\n",
    "\n",
    "### Log_Loss:\n",
    "0.28813973776028556"
   ]
  },
  {
   "cell_type": "code",
   "execution_count": null,
   "id": "349757ad",
   "metadata": {},
   "outputs": [],
   "source": []
  }
 ],
 "metadata": {
  "kernelspec": {
   "display_name": "Python 3 (ipykernel)",
   "language": "python",
   "name": "python3"
  },
  "language_info": {
   "codemirror_mode": {
    "name": "ipython",
    "version": 3
   },
   "file_extension": ".py",
   "mimetype": "text/x-python",
   "name": "python",
   "nbconvert_exporter": "python",
   "pygments_lexer": "ipython3",
   "version": "3.9.7"
  }
 },
 "nbformat": 4,
 "nbformat_minor": 5
}
